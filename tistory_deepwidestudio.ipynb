{
 "cells": [
  {
   "cell_type": "code",
   "execution_count": 1,
   "metadata": {},
   "outputs": [],
   "source": [
    "import pandas as pd\n",
    "import numpy as np\n",
    "import matplotlib.pyplot as plt\n",
    "import seaborn as sns"
   ]
  },
  {
   "cell_type": "code",
   "execution_count": 2,
   "metadata": {},
   "outputs": [],
   "source": [
    "# 한글폰트 사용을 위한 코드\n",
    "from matplotlib import rc, font_manager\n",
    "%matplotlib inline\n",
    "\n",
    "# 한글폰트 사용을 위한 코드\n",
    "rc('font', family='AppleGothic')\n",
    "plt.rcParams['axes.unicode_minus'] = False"
   ]
  },
  {
   "cell_type": "code",
   "execution_count": 11,
   "metadata": {},
   "outputs": [
    {
     "name": "stdout",
     "output_type": "stream",
     "text": [
      "(서식5) 성균공부방 결과보고서_이예경_브랜딩이뭐길래.xlsx\r\n",
      "(서식5) 성균공부방 결과보고서_이예경_디자인초짜생기초일러스트.xlsx\r\n",
      "1.jpeg\r\n",
      "10.jpg\r\n",
      "9.jpg\r\n",
      "\u001b[34mChrome extension\u001b[m\u001b[m/\r\n",
      "\u001b[34mNodejs\u001b[m\u001b[m/\r\n",
      "Screen Shot 2020-08-08 at 9.07.19 AM.png\r\n",
      "Screen Shot 2020-08-09 at 9.06.05 AM.png\r\n",
      "Screen Shot 2020-08-15 at 12.02.59 AM.png\r\n",
      "Screen Shot 2020-08-23 at 4.07.19 PM.png\r\n",
      "Screen Shot 2020-08-25 at 3.37.08 PM.png\r\n",
      "Screen Shot 2020-08-25 at 3.37.12 PM.png\r\n",
      "Screen Shot 2020-08-25 at 3.37.20 PM.png\r\n",
      "Screen Shot 2020-08-25 at 3.37.29 PM.png\r\n",
      "Screen Shot 2020-08-25 at 3.38.52 PM.png\r\n",
      "Screen Shot 2020-08-25 at 3.39.45 PM.png\r\n",
      "Screen Shot 2020-08-25 at 3.39.48 PM.png\r\n",
      "Screen Shot 2020-08-25 at 3.39.52 PM.png\r\n",
      "Screen Shot 2020-08-25 at 3.43.55 PM.png\r\n",
      "Screen Shot 2020-08-25 at 3.44.04 PM.png\r\n",
      "Screen Shot 2020-08-25 at 6.43.13 PM.png\r\n",
      "Screen Shot 2020-08-27 at 5.41.46 PM.png\r\n",
      "Screen Shot 2020-08-27 at 5.54.35 PM.png\r\n",
      "Screen Shot 2020-08-27 at 6.37.21 PM.png\r\n",
      "Screen Shot 2020-09-01 at 4.47.07 PM.png\r\n",
      "Screen Shot 2020-09-02 at 1.49.35 AM.png\r\n",
      "Screen Shot 2020-09-02 at 11.00.09 PM.png\r\n",
      "Screen Shot 2020-09-02 at 11.00.31 PM.png\r\n",
      "Screen Shot 2020-09-02 at 11.00.36 PM.png\r\n",
      "Screen Shot 2020-09-02 at 2.03.44 AM.png\r\n",
      "Screen Shot 2020-09-02 at 2.21.23 AM.png\r\n",
      "Screen Shot 2020-09-02 at 2.21.30 AM.png\r\n",
      "Screen Shot 2020-09-02 at 2.23.12 PM.png\r\n",
      "Screen Shot 2020-09-02 at 3.00.52 PM.png\r\n",
      "Screen Shot 2020-09-02 at 3.24.19 PM.png\r\n",
      "Screen Shot 2020-09-02 at 3.26.59 PM.png\r\n",
      "Screen Shot 2020-09-02 at 3.38.46 AM.png\r\n",
      "Screen Shot 2020-09-02 at 4.37.13 PM.png\r\n",
      "Screen Shot 2020-09-02 at 6.32.18 PM.png\r\n",
      "Screen Shot 2020-09-05 at 10.39.02 PM.png\r\n",
      "Screen Shot 2020-09-05 at 11.23.41 PM.png\r\n",
      "Screen Shot 2020-09-05 at 6.49.53 PM.png\r\n",
      "Screen Shot 2020-09-06 at 3.20.08 PM.png\r\n",
      "Screen Shot 2020-09-07 at 7.50.16 PM.png\r\n",
      "Screen Shot 2020-09-07 at 8.35.06 PM.png\r\n",
      "Screen Shot 2020-09-07 at 8.56.12 PM.png\r\n",
      "Screen Shot 2020-09-07 at 9.07.55 PM.png\r\n",
      "Screen Shot 2020-09-07 at 9.08.30 PM.png\r\n",
      "Screen Shot 2020-09-10 at 12.15.50 AM.png\r\n",
      "Screen Shot 2020-09-13 at 4.49.15 PM.png\r\n",
      "Screen Shot 2020-09-16 at 1.59.42 AM.png\r\n",
      "Screen Shot 2020-09-24 at 10.20.15 PM.png\r\n",
      "Screen Shot 2020-09-24 at 10.30.46 PM.png\r\n",
      "Screen Shot 2020-09-28 at 10.17.31 AM.png\r\n",
      "Screen Shot 2020-09-28 at 10.17.43 AM.png\r\n",
      "Screen Shot 2020-09-28 at 11.15.55 AM.png\r\n",
      "Screen Shot 2020-09-28 at 4.35.39 AM.png\r\n",
      "Screen Shot 2020-09-28 at 5.30.51 PM.png\r\n",
      "Screen Shot 2020-10-04 at 1.10.16 AM.png\r\n",
      "Screen Shot 2020-10-04 at 11.43.50 PM.png\r\n",
      "Screen Shot 2020-10-08 at 1.10.19 AM.png\r\n",
      "Screen Shot 2020-10-08 at 1.19.22 AM.png\r\n",
      "Screen Shot 2020-10-08 at 1.27.12 AM.png\r\n",
      "Screen Shot 2020-10-08 at 1.30.11 AM.png\r\n",
      "Screen Shot 2020-10-08 at 4.41.01 PM.png\r\n",
      "Screen Shot 2020-10-11 at 12.14.49 AM.png\r\n",
      "Screen Shot 2020-10-11 at 12.28.10 AM.png\r\n",
      "Screen Shot 2020-10-11 at 4.37.10 PM.png\r\n",
      "Screen Shot 2020-10-11 at 4.39.32 PM.png\r\n",
      "Screen Shot 2020-10-11 at 4.42.09 PM.png\r\n",
      "Screen Shot 2020-10-12 at 8.35.35 PM.png\r\n",
      "Screen Shot 2020-10-12 at 8.47.25 PM.png\r\n",
      "Screen Shot 2020-10-13 at 1.57.59 AM.png\r\n",
      "Screen Shot 2020-10-13 at 4.45.26 PM.png\r\n",
      "Screen Shot 2020-10-13 at 5.13.29 PM.png\r\n",
      "Screen Shot 2020-10-13 at 5.31.23 PM.png\r\n",
      "\u001b[31mSurfit UX.key\u001b[m\u001b[m*\r\n",
      "Untitled.ipynb\r\n",
      "Untitled1.ipynb\r\n",
      "[서식4] 인건비 지급청구서_성균공부방_이예경_브랜딩이 뭐길래.hwp\r\n",
      "[서식4] 인건비 지급청구서_성균공부방_이예경_생기초일러스트.hwp\r\n",
      "bigcontest_0902.ipynb\r\n",
      "\u001b[34mbigcontest_datafile\u001b[m\u001b[m/\r\n",
      "\u001b[34mgit_study\u001b[m\u001b[m/\r\n",
      "herow brand concept.ai\r\n",
      "\u001b[34mherows\u001b[m\u001b[m/\r\n",
      "\u001b[34millustration\u001b[m\u001b[m/\r\n",
      "\u001b[34mjupyter-tutorial\u001b[m\u001b[m/\r\n",
      "my coding roadmap_scuba.png\r\n",
      "myphoto1.jpeg\r",
      "\r\n",
      "myphoto2.jpeg\r\n",
      "myphoto3.jpeg\r\n",
      "photo_1.jpeg\r\n",
      "photo_2.jpeg\r\n",
      "python cheetsheet.pdf\r\n",
      "\u001b[34mreact-app\u001b[m\u001b[m/\r\n",
      "\u001b[34mstudy python\u001b[m\u001b[m/\r\n",
      "tistory_deepwidestudio.ipynb\r\n",
      "tistory_surfit - 시트1.csv\r\n",
      "이예경_통장사본, 신분증사본.PDF\r\n",
      "\u001b[31m기본 ui  Extract.key\u001b[m\u001b[m*\r\n",
      "사진1.png\r\n",
      "우봉이 캐릭터 최종, 로고.ai\r\n",
      "브랜딩4-1.mov\r\n",
      "브랜딩4-2.mov\r\n",
      "\u001b[31m로컬어라운드 ui 완성.key\u001b[m\u001b[m*\r\n",
      "로컬어라운드 ui 완성.pdf\r\n",
      "\u001b[31m로컬어라운드.key\u001b[m\u001b[m*\r\n",
      "로컬어라운드2_수정11시12분.pptx\r\n",
      "성균공부방_이예경_생기초일러스트.zip\r\n"
     ]
    }
   ],
   "source": [
    "ls"
   ]
  },
  {
   "cell_type": "code",
   "execution_count": 12,
   "metadata": {},
   "outputs": [],
   "source": [
    "df = pd.read_csv(\"./tistory_surfit - 시트1.csv\")"
   ]
  },
  {
   "cell_type": "code",
   "execution_count": 21,
   "metadata": {
    "scrolled": false
   },
   "outputs": [
    {
     "data": {
      "text/html": [
       "<div>\n",
       "<style scoped>\n",
       "    .dataframe tbody tr th:only-of-type {\n",
       "        vertical-align: middle;\n",
       "    }\n",
       "\n",
       "    .dataframe tbody tr th {\n",
       "        vertical-align: top;\n",
       "    }\n",
       "\n",
       "    .dataframe thead th {\n",
       "        text-align: right;\n",
       "    }\n",
       "</style>\n",
       "<table border=\"1\" class=\"dataframe\">\n",
       "  <thead>\n",
       "    <tr style=\"text-align: right;\">\n",
       "      <th></th>\n",
       "      <th>2020년 10월 13일</th>\n",
       "      <th>방문자수</th>\n",
       "    </tr>\n",
       "  </thead>\n",
       "  <tbody>\n",
       "    <tr>\n",
       "      <th>0</th>\n",
       "      <td>00:00-1:00</td>\n",
       "      <td>1</td>\n",
       "    </tr>\n",
       "    <tr>\n",
       "      <th>1</th>\n",
       "      <td>1:00-7:00</td>\n",
       "      <td>0</td>\n",
       "    </tr>\n",
       "    <tr>\n",
       "      <th>2</th>\n",
       "      <td>1:00-2:00</td>\n",
       "      <td>0</td>\n",
       "    </tr>\n",
       "    <tr>\n",
       "      <th>3</th>\n",
       "      <td>2:00-3:00</td>\n",
       "      <td>0</td>\n",
       "    </tr>\n",
       "    <tr>\n",
       "      <th>4</th>\n",
       "      <td>3:00-4:00</td>\n",
       "      <td>0</td>\n",
       "    </tr>\n",
       "    <tr>\n",
       "      <th>5</th>\n",
       "      <td>4:00-5:00</td>\n",
       "      <td>0</td>\n",
       "    </tr>\n",
       "    <tr>\n",
       "      <th>6</th>\n",
       "      <td>5:00-6:00</td>\n",
       "      <td>0</td>\n",
       "    </tr>\n",
       "    <tr>\n",
       "      <th>7</th>\n",
       "      <td>6:00-7:00</td>\n",
       "      <td>0</td>\n",
       "    </tr>\n",
       "    <tr>\n",
       "      <th>8</th>\n",
       "      <td>7:00-8:00</td>\n",
       "      <td>10</td>\n",
       "    </tr>\n",
       "    <tr>\n",
       "      <th>9</th>\n",
       "      <td>8:00-9:00</td>\n",
       "      <td>15</td>\n",
       "    </tr>\n",
       "    <tr>\n",
       "      <th>10</th>\n",
       "      <td>9:00-10:00</td>\n",
       "      <td>23</td>\n",
       "    </tr>\n",
       "    <tr>\n",
       "      <th>11</th>\n",
       "      <td>10:00-11:00</td>\n",
       "      <td>58</td>\n",
       "    </tr>\n",
       "    <tr>\n",
       "      <th>12</th>\n",
       "      <td>11:00-12:00</td>\n",
       "      <td>30</td>\n",
       "    </tr>\n",
       "    <tr>\n",
       "      <th>13</th>\n",
       "      <td>12:00-1:00</td>\n",
       "      <td>6</td>\n",
       "    </tr>\n",
       "    <tr>\n",
       "      <th>14</th>\n",
       "      <td>13:00-14:00</td>\n",
       "      <td>4</td>\n",
       "    </tr>\n",
       "    <tr>\n",
       "      <th>15</th>\n",
       "      <td>14:00-15:00</td>\n",
       "      <td>10</td>\n",
       "    </tr>\n",
       "    <tr>\n",
       "      <th>16</th>\n",
       "      <td>15:00-16:00</td>\n",
       "      <td>18</td>\n",
       "    </tr>\n",
       "    <tr>\n",
       "      <th>17</th>\n",
       "      <td>16:00-17:00</td>\n",
       "      <td>11</td>\n",
       "    </tr>\n",
       "    <tr>\n",
       "      <th>18</th>\n",
       "      <td>17:00-18:00</td>\n",
       "      <td>29</td>\n",
       "    </tr>\n",
       "    <tr>\n",
       "      <th>19</th>\n",
       "      <td>18:00-19:00</td>\n",
       "      <td>13</td>\n",
       "    </tr>\n",
       "    <tr>\n",
       "      <th>20</th>\n",
       "      <td>19:00-20:00</td>\n",
       "      <td>1</td>\n",
       "    </tr>\n",
       "    <tr>\n",
       "      <th>21</th>\n",
       "      <td>20:00-21:00</td>\n",
       "      <td>0</td>\n",
       "    </tr>\n",
       "    <tr>\n",
       "      <th>22</th>\n",
       "      <td>21:00-22:00</td>\n",
       "      <td>8</td>\n",
       "    </tr>\n",
       "    <tr>\n",
       "      <th>23</th>\n",
       "      <td>22:00-23:00</td>\n",
       "      <td>3</td>\n",
       "    </tr>\n",
       "    <tr>\n",
       "      <th>24</th>\n",
       "      <td>23:00-24:00</td>\n",
       "      <td>9</td>\n",
       "    </tr>\n",
       "  </tbody>\n",
       "</table>\n",
       "</div>"
      ],
      "text/plain": [
       "   2020년 10월 13일  방문자수\n",
       "0     00:00-1:00     1\n",
       "1      1:00-7:00     0\n",
       "2      1:00-2:00     0\n",
       "3      2:00-3:00     0\n",
       "4      3:00-4:00     0\n",
       "5      4:00-5:00     0\n",
       "6      5:00-6:00     0\n",
       "7      6:00-7:00     0\n",
       "8      7:00-8:00    10\n",
       "9      8:00-9:00    15\n",
       "10    9:00-10:00    23\n",
       "11   10:00-11:00    58\n",
       "12   11:00-12:00    30\n",
       "13    12:00-1:00     6\n",
       "14   13:00-14:00     4\n",
       "15   14:00-15:00    10\n",
       "16   15:00-16:00    18\n",
       "17   16:00-17:00    11\n",
       "18   17:00-18:00    29\n",
       "19   18:00-19:00    13\n",
       "20   19:00-20:00     1\n",
       "21   20:00-21:00     0\n",
       "22   21:00-22:00     8\n",
       "23   22:00-23:00     3\n",
       "24   23:00-24:00     9"
      ]
     },
     "execution_count": 21,
     "metadata": {},
     "output_type": "execute_result"
    }
   ],
   "source": [
    "df"
   ]
  },
  {
   "cell_type": "code",
   "execution_count": 22,
   "metadata": {},
   "outputs": [],
   "source": [
    "df2 = df.set_index('2020년 10월 13일')"
   ]
  },
  {
   "cell_type": "code",
   "execution_count": 53,
   "metadata": {},
   "outputs": [
    {
     "data": {
      "text/plain": [
       "Index(['00:00-1:00', '1:00-7:00', '1:00-2:00', '2:00-3:00', '3:00-4:00',\n",
       "       '4:00-5:00', '5:00-6:00', '6:00-7:00', '7:00-8:00', '8:00-9:00',\n",
       "       '9:00-10:00', '10:00-11:00', '11:00-12:00', '12:00-1:00', '13:00-14:00',\n",
       "       '14:00-15:00', '15:00-16:00', '16:00-17:00', '17:00-18:00',\n",
       "       '18:00-19:00', '19:00-20:00', '20:00-21:00', '21:00-22:00',\n",
       "       '22:00-23:00', '23:00-24:00'],\n",
       "      dtype='object', name='2020년 10월 13일')"
      ]
     },
     "execution_count": 53,
     "metadata": {},
     "output_type": "execute_result"
    }
   ],
   "source": [
    "df2.index"
   ]
  },
  {
   "cell_type": "code",
   "execution_count": 18,
   "metadata": {},
   "outputs": [
    {
     "data": {
      "text/plain": [
       "249"
      ]
     },
     "execution_count": 18,
     "metadata": {},
     "output_type": "execute_result"
    }
   ],
   "source": [
    "df.방문자수.sum()"
   ]
  },
  {
   "cell_type": "code",
   "execution_count": 66,
   "metadata": {},
   "outputs": [
    {
     "data": {
      "image/png": "[encoded data removed]",
      "text/plain": [
       "<Figure size 1080x720 with 1 Axes>"
      ]
     },
     "metadata": {
      "needs_background": "light"
     },
     "output_type": "display_data"
    }
   ],
   "source": [
    "df2.plot(kind='bar',figsize=(15,10),color='dodgerblue')\n",
    "plt.xlabel('방문자수')\n",
    "plt.title('2020년 10월 13일 시간대별 Tistory 방문자 수')\n",
    "plt.xticks(rotation=60)\n",
    "plt.show()"
   ]
  },
  {
   "cell_type": "code",
   "execution_count": 58,
   "metadata": {
    "scrolled": false
   },
   "outputs": [
    {
     "data": {
      "image/png": "[encoded data removed]",
      "text/plain": [
       "<Figure size 576x720 with 1 Axes>"
      ]
     },
     "metadata": {
      "needs_background": "light"
     },
     "output_type": "display_data"
    }
   ],
   "source": [
    "df2.plot(kind='barh',figsize=(8,10))\n",
    "plt.xlabel('방문자수')\n",
    "plt.yticks(np.arange(24), ['00:00-1:00', '1:00-7:00', '1:00-2:00', '2:00-3:00', '3:00-4:00',\n",
    "       '4:00-5:00', '5:00-6:00', '6:00-7:00', '7:00-8:00', '8:00-9:00',\n",
    "       '9:00-10:00', '10:00-11:00', '11:00-12:00', '12:00-1:00', '13:00-14:00',\n",
    "       '14:00-15:00', '15:00-16:00', '16:00-17:00', '17:00-18:00',\n",
    "       '18:00-19:00', '19:00-20:00', '20:00-21:00', '21:00-22:00',\n",
    "       '22:00-23:00', '23:00-24:00'])\n",
    "plt.title('2020년 10월 13일 시간대별 Tistory 방문자 수')\n",
    "# plt.xticks(rotation=80)\n",
    "plt.show()"
   ]
  },
  {
   "cell_type": "code",
   "execution_count": null,
   "metadata": {},
   "outputs": [],
   "source": [
    "fig, ax = plt.subplots(figsize=(20,5))\n",
    "ax.plot(data=df, kind='bar')\n",
    "ax.set_xlabel('Time') \n",
    "ax.set_ylabel('방문자수')\n",
    "ax.set_title('2020년 10월 13일 Surfit발 방문자수')\n",
    "# plt.xticks(np.arange(min(x), max(x)+100, 7.0))\n",
    "plt.xticks(rotation=60)\n",
    "plt.show()"
   ]
  },
  {
   "cell_type": "code",
   "execution_count": null,
   "metadata": {},
   "outputs": [],
   "source": []
  }
 ],
 "metadata": {
  "kernelspec": {
   "display_name": "Python 3",
   "language": "python",
   "name": "python3"
  },
  "language_info": {
   "codemirror_mode": {
    "name": "ipython",
    "version": 3
   },
   "file_extension": ".py",
   "mimetype": "text/x-python",
   "name": "python",
   "nbconvert_exporter": "python",
   "pygments_lexer": "ipython3",
   "version": "3.8.3"
  }
 },
 "nbformat": 4,
 "nbformat_minor": 4
}
